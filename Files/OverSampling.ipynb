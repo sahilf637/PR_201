{
  "cells": [
    {
      "cell_type": "markdown",
      "source": [
        "# Oversampling Techniques for Imbalanced Datasets\n",
        "\n",
        "In this notebook, we explore various **oversampling techniques** that are commonly used to handle imbalanced datasets, especially in classification tasks. These techniques aim to balance the class distribution by increasing the number of samples in the minority class.\n",
        "\n",
        "## 1. **Synthetic Minority Oversampling Technique (SMOTE)**\n",
        "SMOTE is a popular oversampling technique that generates synthetic samples for the minority class by interpolating between existing samples. It helps in creating more diverse samples, reducing overfitting in imbalanced datasets.\n",
        "\n",
        "## 2. **Adaptive Synthetic Sampling (AdaSyn)**\n",
        "AdaSyn is an enhancement of SMOTE that focuses on generating more synthetic samples near the decision boundary of the minority class. It prioritizes difficult-to-learn examples, making the classifier's decision boundary more accurate.\n",
        "\n",
        "## 3. **Random Oversampling (ROS)**\n",
        "ROS is a simpler technique where samples from the minority class are randomly duplicated until the dataset achieves a more balanced distribution. While easy to implement, this method may lead to overfitting due to the duplication of minority class samples.\n",
        "\n",
        "---\n",
        "These techniques are crucial when dealing with imbalanced datasets, as they help improve the model's performance by providing more examples of the minority class.\n"
      ],
      "metadata": {
        "id": "Wa-urBY3HmVw"
      }
    },
    {
      "cell_type": "code",
      "source": [
        "from google.colab import drive\n",
        "drive.mount('/content/drive')"
      ],
      "metadata": {
        "id": "2TGrxsc8FQ66",
        "outputId": "f8e9aa25-f47d-4cff-9941-5d3fb280b5ed",
        "colab": {
          "base_uri": "https://localhost:8080/"
        }
      },
      "execution_count": 1,
      "outputs": [
        {
          "output_type": "stream",
          "name": "stdout",
          "text": [
            "Mounted at /content/drive\n"
          ]
        }
      ]
    },
    {
      "cell_type": "code",
      "source": [
        "import pandas as pd\n",
        "import numpy as np\n",
        "import matplotlib.pyplot as plt\n",
        "import seaborn as sns"
      ],
      "metadata": {
        "id": "0sGQ_O5iFj8L"
      },
      "execution_count": 2,
      "outputs": []
    },
    {
      "cell_type": "code",
      "source": [
        "df=pd.read_csv('/content/drive/MyDrive/Colab Notebooks/archive/creditcard.csv')"
      ],
      "metadata": {
        "id": "BsVLToQIFmIM"
      },
      "execution_count": 4,
      "outputs": []
    },
    {
      "cell_type": "code",
      "source": [
        "df.head()"
      ],
      "metadata": {
        "id": "czOjYc14FqhI",
        "outputId": "7048d579-839d-4e8f-802b-316b756b0199",
        "colab": {
          "base_uri": "https://localhost:8080/",
          "height": 256
        }
      },
      "execution_count": 4,
      "outputs": [
        {
          "output_type": "execute_result",
          "data": {
            "text/plain": [
              "   Time        V1        V2        V3        V4        V5        V6        V7  \\\n",
              "0   0.0 -1.359807 -0.072781  2.536347  1.378155 -0.338321  0.462388  0.239599   \n",
              "1   0.0  1.191857  0.266151  0.166480  0.448154  0.060018 -0.082361 -0.078803   \n",
              "2   1.0 -1.358354 -1.340163  1.773209  0.379780 -0.503198  1.800499  0.791461   \n",
              "3   1.0 -0.966272 -0.185226  1.792993 -0.863291 -0.010309  1.247203  0.237609   \n",
              "4   2.0 -1.158233  0.877737  1.548718  0.403034 -0.407193  0.095921  0.592941   \n",
              "\n",
              "         V8        V9  ...       V21       V22       V23       V24       V25  \\\n",
              "0  0.098698  0.363787  ... -0.018307  0.277838 -0.110474  0.066928  0.128539   \n",
              "1  0.085102 -0.255425  ... -0.225775 -0.638672  0.101288 -0.339846  0.167170   \n",
              "2  0.247676 -1.514654  ...  0.247998  0.771679  0.909412 -0.689281 -0.327642   \n",
              "3  0.377436 -1.387024  ... -0.108300  0.005274 -0.190321 -1.175575  0.647376   \n",
              "4 -0.270533  0.817739  ... -0.009431  0.798278 -0.137458  0.141267 -0.206010   \n",
              "\n",
              "        V26       V27       V28  Amount  Class  \n",
              "0 -0.189115  0.133558 -0.021053  149.62      0  \n",
              "1  0.125895 -0.008983  0.014724    2.69      0  \n",
              "2 -0.139097 -0.055353 -0.059752  378.66      0  \n",
              "3 -0.221929  0.062723  0.061458  123.50      0  \n",
              "4  0.502292  0.219422  0.215153   69.99      0  \n",
              "\n",
              "[5 rows x 31 columns]"
            ],
            "text/html": [
              "\n",
              "  <div id=\"df-31dbade3-03f7-47fb-a823-a36203fe03ae\" class=\"colab-df-container\">\n",
              "    <div>\n",
              "<style scoped>\n",
              "    .dataframe tbody tr th:only-of-type {\n",
              "        vertical-align: middle;\n",
              "    }\n",
              "\n",
              "    .dataframe tbody tr th {\n",
              "        vertical-align: top;\n",
              "    }\n",
              "\n",
              "    .dataframe thead th {\n",
              "        text-align: right;\n",
              "    }\n",
              "</style>\n",
              "<table border=\"1\" class=\"dataframe\">\n",
              "  <thead>\n",
              "    <tr style=\"text-align: right;\">\n",
              "      <th></th>\n",
              "      <th>Time</th>\n",
              "      <th>V1</th>\n",
              "      <th>V2</th>\n",
              "      <th>V3</th>\n",
              "      <th>V4</th>\n",
              "      <th>V5</th>\n",
              "      <th>V6</th>\n",
              "      <th>V7</th>\n",
              "      <th>V8</th>\n",
              "      <th>V9</th>\n",
              "      <th>...</th>\n",
              "      <th>V21</th>\n",
              "      <th>V22</th>\n",
              "      <th>V23</th>\n",
              "      <th>V24</th>\n",
              "      <th>V25</th>\n",
              "      <th>V26</th>\n",
              "      <th>V27</th>\n",
              "      <th>V28</th>\n",
              "      <th>Amount</th>\n",
              "      <th>Class</th>\n",
              "    </tr>\n",
              "  </thead>\n",
              "  <tbody>\n",
              "    <tr>\n",
              "      <th>0</th>\n",
              "      <td>0.0</td>\n",
              "      <td>-1.359807</td>\n",
              "      <td>-0.072781</td>\n",
              "      <td>2.536347</td>\n",
              "      <td>1.378155</td>\n",
              "      <td>-0.338321</td>\n",
              "      <td>0.462388</td>\n",
              "      <td>0.239599</td>\n",
              "      <td>0.098698</td>\n",
              "      <td>0.363787</td>\n",
              "      <td>...</td>\n",
              "      <td>-0.018307</td>\n",
              "      <td>0.277838</td>\n",
              "      <td>-0.110474</td>\n",
              "      <td>0.066928</td>\n",
              "      <td>0.128539</td>\n",
              "      <td>-0.189115</td>\n",
              "      <td>0.133558</td>\n",
              "      <td>-0.021053</td>\n",
              "      <td>149.62</td>\n",
              "      <td>0</td>\n",
              "    </tr>\n",
              "    <tr>\n",
              "      <th>1</th>\n",
              "      <td>0.0</td>\n",
              "      <td>1.191857</td>\n",
              "      <td>0.266151</td>\n",
              "      <td>0.166480</td>\n",
              "      <td>0.448154</td>\n",
              "      <td>0.060018</td>\n",
              "      <td>-0.082361</td>\n",
              "      <td>-0.078803</td>\n",
              "      <td>0.085102</td>\n",
              "      <td>-0.255425</td>\n",
              "      <td>...</td>\n",
              "      <td>-0.225775</td>\n",
              "      <td>-0.638672</td>\n",
              "      <td>0.101288</td>\n",
              "      <td>-0.339846</td>\n",
              "      <td>0.167170</td>\n",
              "      <td>0.125895</td>\n",
              "      <td>-0.008983</td>\n",
              "      <td>0.014724</td>\n",
              "      <td>2.69</td>\n",
              "      <td>0</td>\n",
              "    </tr>\n",
              "    <tr>\n",
              "      <th>2</th>\n",
              "      <td>1.0</td>\n",
              "      <td>-1.358354</td>\n",
              "      <td>-1.340163</td>\n",
              "      <td>1.773209</td>\n",
              "      <td>0.379780</td>\n",
              "      <td>-0.503198</td>\n",
              "      <td>1.800499</td>\n",
              "      <td>0.791461</td>\n",
              "      <td>0.247676</td>\n",
              "      <td>-1.514654</td>\n",
              "      <td>...</td>\n",
              "      <td>0.247998</td>\n",
              "      <td>0.771679</td>\n",
              "      <td>0.909412</td>\n",
              "      <td>-0.689281</td>\n",
              "      <td>-0.327642</td>\n",
              "      <td>-0.139097</td>\n",
              "      <td>-0.055353</td>\n",
              "      <td>-0.059752</td>\n",
              "      <td>378.66</td>\n",
              "      <td>0</td>\n",
              "    </tr>\n",
              "    <tr>\n",
              "      <th>3</th>\n",
              "      <td>1.0</td>\n",
              "      <td>-0.966272</td>\n",
              "      <td>-0.185226</td>\n",
              "      <td>1.792993</td>\n",
              "      <td>-0.863291</td>\n",
              "      <td>-0.010309</td>\n",
              "      <td>1.247203</td>\n",
              "      <td>0.237609</td>\n",
              "      <td>0.377436</td>\n",
              "      <td>-1.387024</td>\n",
              "      <td>...</td>\n",
              "      <td>-0.108300</td>\n",
              "      <td>0.005274</td>\n",
              "      <td>-0.190321</td>\n",
              "      <td>-1.175575</td>\n",
              "      <td>0.647376</td>\n",
              "      <td>-0.221929</td>\n",
              "      <td>0.062723</td>\n",
              "      <td>0.061458</td>\n",
              "      <td>123.50</td>\n",
              "      <td>0</td>\n",
              "    </tr>\n",
              "    <tr>\n",
              "      <th>4</th>\n",
              "      <td>2.0</td>\n",
              "      <td>-1.158233</td>\n",
              "      <td>0.877737</td>\n",
              "      <td>1.548718</td>\n",
              "      <td>0.403034</td>\n",
              "      <td>-0.407193</td>\n",
              "      <td>0.095921</td>\n",
              "      <td>0.592941</td>\n",
              "      <td>-0.270533</td>\n",
              "      <td>0.817739</td>\n",
              "      <td>...</td>\n",
              "      <td>-0.009431</td>\n",
              "      <td>0.798278</td>\n",
              "      <td>-0.137458</td>\n",
              "      <td>0.141267</td>\n",
              "      <td>-0.206010</td>\n",
              "      <td>0.502292</td>\n",
              "      <td>0.219422</td>\n",
              "      <td>0.215153</td>\n",
              "      <td>69.99</td>\n",
              "      <td>0</td>\n",
              "    </tr>\n",
              "  </tbody>\n",
              "</table>\n",
              "<p>5 rows × 31 columns</p>\n",
              "</div>\n",
              "    <div class=\"colab-df-buttons\">\n",
              "\n",
              "  <div class=\"colab-df-container\">\n",
              "    <button class=\"colab-df-convert\" onclick=\"convertToInteractive('df-31dbade3-03f7-47fb-a823-a36203fe03ae')\"\n",
              "            title=\"Convert this dataframe to an interactive table.\"\n",
              "            style=\"display:none;\">\n",
              "\n",
              "  <svg xmlns=\"http://www.w3.org/2000/svg\" height=\"24px\" viewBox=\"0 -960 960 960\">\n",
              "    <path d=\"M120-120v-720h720v720H120Zm60-500h600v-160H180v160Zm220 220h160v-160H400v160Zm0 220h160v-160H400v160ZM180-400h160v-160H180v160Zm440 0h160v-160H620v160ZM180-180h160v-160H180v160Zm440 0h160v-160H620v160Z\"/>\n",
              "  </svg>\n",
              "    </button>\n",
              "\n",
              "  <style>\n",
              "    .colab-df-container {\n",
              "      display:flex;\n",
              "      gap: 12px;\n",
              "    }\n",
              "\n",
              "    .colab-df-convert {\n",
              "      background-color: #E8F0FE;\n",
              "      border: none;\n",
              "      border-radius: 50%;\n",
              "      cursor: pointer;\n",
              "      display: none;\n",
              "      fill: #1967D2;\n",
              "      height: 32px;\n",
              "      padding: 0 0 0 0;\n",
              "      width: 32px;\n",
              "    }\n",
              "\n",
              "    .colab-df-convert:hover {\n",
              "      background-color: #E2EBFA;\n",
              "      box-shadow: 0px 1px 2px rgba(60, 64, 67, 0.3), 0px 1px 3px 1px rgba(60, 64, 67, 0.15);\n",
              "      fill: #174EA6;\n",
              "    }\n",
              "\n",
              "    .colab-df-buttons div {\n",
              "      margin-bottom: 4px;\n",
              "    }\n",
              "\n",
              "    [theme=dark] .colab-df-convert {\n",
              "      background-color: #3B4455;\n",
              "      fill: #D2E3FC;\n",
              "    }\n",
              "\n",
              "    [theme=dark] .colab-df-convert:hover {\n",
              "      background-color: #434B5C;\n",
              "      box-shadow: 0px 1px 3px 1px rgba(0, 0, 0, 0.15);\n",
              "      filter: drop-shadow(0px 1px 2px rgba(0, 0, 0, 0.3));\n",
              "      fill: #FFFFFF;\n",
              "    }\n",
              "  </style>\n",
              "\n",
              "    <script>\n",
              "      const buttonEl =\n",
              "        document.querySelector('#df-31dbade3-03f7-47fb-a823-a36203fe03ae button.colab-df-convert');\n",
              "      buttonEl.style.display =\n",
              "        google.colab.kernel.accessAllowed ? 'block' : 'none';\n",
              "\n",
              "      async function convertToInteractive(key) {\n",
              "        const element = document.querySelector('#df-31dbade3-03f7-47fb-a823-a36203fe03ae');\n",
              "        const dataTable =\n",
              "          await google.colab.kernel.invokeFunction('convertToInteractive',\n",
              "                                                    [key], {});\n",
              "        if (!dataTable) return;\n",
              "\n",
              "        const docLinkHtml = 'Like what you see? Visit the ' +\n",
              "          '<a target=\"_blank\" href=https://colab.research.google.com/notebooks/data_table.ipynb>data table notebook</a>'\n",
              "          + ' to learn more about interactive tables.';\n",
              "        element.innerHTML = '';\n",
              "        dataTable['output_type'] = 'display_data';\n",
              "        await google.colab.output.renderOutput(dataTable, element);\n",
              "        const docLink = document.createElement('div');\n",
              "        docLink.innerHTML = docLinkHtml;\n",
              "        element.appendChild(docLink);\n",
              "      }\n",
              "    </script>\n",
              "  </div>\n",
              "\n",
              "\n",
              "<div id=\"df-ca2fa81f-1733-4032-a0cd-06f1ead5d939\">\n",
              "  <button class=\"colab-df-quickchart\" onclick=\"quickchart('df-ca2fa81f-1733-4032-a0cd-06f1ead5d939')\"\n",
              "            title=\"Suggest charts\"\n",
              "            style=\"display:none;\">\n",
              "\n",
              "<svg xmlns=\"http://www.w3.org/2000/svg\" height=\"24px\"viewBox=\"0 0 24 24\"\n",
              "     width=\"24px\">\n",
              "    <g>\n",
              "        <path d=\"M19 3H5c-1.1 0-2 .9-2 2v14c0 1.1.9 2 2 2h14c1.1 0 2-.9 2-2V5c0-1.1-.9-2-2-2zM9 17H7v-7h2v7zm4 0h-2V7h2v10zm4 0h-2v-4h2v4z\"/>\n",
              "    </g>\n",
              "</svg>\n",
              "  </button>\n",
              "\n",
              "<style>\n",
              "  .colab-df-quickchart {\n",
              "      --bg-color: #E8F0FE;\n",
              "      --fill-color: #1967D2;\n",
              "      --hover-bg-color: #E2EBFA;\n",
              "      --hover-fill-color: #174EA6;\n",
              "      --disabled-fill-color: #AAA;\n",
              "      --disabled-bg-color: #DDD;\n",
              "  }\n",
              "\n",
              "  [theme=dark] .colab-df-quickchart {\n",
              "      --bg-color: #3B4455;\n",
              "      --fill-color: #D2E3FC;\n",
              "      --hover-bg-color: #434B5C;\n",
              "      --hover-fill-color: #FFFFFF;\n",
              "      --disabled-bg-color: #3B4455;\n",
              "      --disabled-fill-color: #666;\n",
              "  }\n",
              "\n",
              "  .colab-df-quickchart {\n",
              "    background-color: var(--bg-color);\n",
              "    border: none;\n",
              "    border-radius: 50%;\n",
              "    cursor: pointer;\n",
              "    display: none;\n",
              "    fill: var(--fill-color);\n",
              "    height: 32px;\n",
              "    padding: 0;\n",
              "    width: 32px;\n",
              "  }\n",
              "\n",
              "  .colab-df-quickchart:hover {\n",
              "    background-color: var(--hover-bg-color);\n",
              "    box-shadow: 0 1px 2px rgba(60, 64, 67, 0.3), 0 1px 3px 1px rgba(60, 64, 67, 0.15);\n",
              "    fill: var(--button-hover-fill-color);\n",
              "  }\n",
              "\n",
              "  .colab-df-quickchart-complete:disabled,\n",
              "  .colab-df-quickchart-complete:disabled:hover {\n",
              "    background-color: var(--disabled-bg-color);\n",
              "    fill: var(--disabled-fill-color);\n",
              "    box-shadow: none;\n",
              "  }\n",
              "\n",
              "  .colab-df-spinner {\n",
              "    border: 2px solid var(--fill-color);\n",
              "    border-color: transparent;\n",
              "    border-bottom-color: var(--fill-color);\n",
              "    animation:\n",
              "      spin 1s steps(1) infinite;\n",
              "  }\n",
              "\n",
              "  @keyframes spin {\n",
              "    0% {\n",
              "      border-color: transparent;\n",
              "      border-bottom-color: var(--fill-color);\n",
              "      border-left-color: var(--fill-color);\n",
              "    }\n",
              "    20% {\n",
              "      border-color: transparent;\n",
              "      border-left-color: var(--fill-color);\n",
              "      border-top-color: var(--fill-color);\n",
              "    }\n",
              "    30% {\n",
              "      border-color: transparent;\n",
              "      border-left-color: var(--fill-color);\n",
              "      border-top-color: var(--fill-color);\n",
              "      border-right-color: var(--fill-color);\n",
              "    }\n",
              "    40% {\n",
              "      border-color: transparent;\n",
              "      border-right-color: var(--fill-color);\n",
              "      border-top-color: var(--fill-color);\n",
              "    }\n",
              "    60% {\n",
              "      border-color: transparent;\n",
              "      border-right-color: var(--fill-color);\n",
              "    }\n",
              "    80% {\n",
              "      border-color: transparent;\n",
              "      border-right-color: var(--fill-color);\n",
              "      border-bottom-color: var(--fill-color);\n",
              "    }\n",
              "    90% {\n",
              "      border-color: transparent;\n",
              "      border-bottom-color: var(--fill-color);\n",
              "    }\n",
              "  }\n",
              "</style>\n",
              "\n",
              "  <script>\n",
              "    async function quickchart(key) {\n",
              "      const quickchartButtonEl =\n",
              "        document.querySelector('#' + key + ' button');\n",
              "      quickchartButtonEl.disabled = true;  // To prevent multiple clicks.\n",
              "      quickchartButtonEl.classList.add('colab-df-spinner');\n",
              "      try {\n",
              "        const charts = await google.colab.kernel.invokeFunction(\n",
              "            'suggestCharts', [key], {});\n",
              "      } catch (error) {\n",
              "        console.error('Error during call to suggestCharts:', error);\n",
              "      }\n",
              "      quickchartButtonEl.classList.remove('colab-df-spinner');\n",
              "      quickchartButtonEl.classList.add('colab-df-quickchart-complete');\n",
              "    }\n",
              "    (() => {\n",
              "      let quickchartButtonEl =\n",
              "        document.querySelector('#df-ca2fa81f-1733-4032-a0cd-06f1ead5d939 button');\n",
              "      quickchartButtonEl.style.display =\n",
              "        google.colab.kernel.accessAllowed ? 'block' : 'none';\n",
              "    })();\n",
              "  </script>\n",
              "</div>\n",
              "\n",
              "    </div>\n",
              "  </div>\n"
            ],
            "application/vnd.google.colaboratory.intrinsic+json": {
              "type": "dataframe",
              "variable_name": "df"
            }
          },
          "metadata": {},
          "execution_count": 4
        }
      ]
    },
    {
      "cell_type": "code",
      "source": [
        "fraud = df[df['Class'] == 1]\n",
        "legit = df[df['Class'] == 0]\n",
        "\n",
        "print('Fraudulent Transactions:', len(fraud))\n",
        "print('Legitimate Transactions:', len(legit))"
      ],
      "metadata": {
        "id": "xJNPCycWGNYI",
        "outputId": "1c9d2eda-debc-47d4-b32c-80e1c8271b2e",
        "colab": {
          "base_uri": "https://localhost:8080/"
        }
      },
      "execution_count": 5,
      "outputs": [
        {
          "output_type": "stream",
          "name": "stdout",
          "text": [
            "Fraudulent Transactions: 492\n",
            "Legitimate Transactions: 284315\n"
          ]
        }
      ]
    },
    {
      "cell_type": "code",
      "source": [
        "from sklearn.preprocessing import StandardScaler\n",
        "from sklearn.model_selection import train_test_split # Import train_test_split\n",
        "\n",
        "\n",
        "df.iloc[:, 1:30] = StandardScaler().fit_transform(df.iloc[:, 1:30])\n",
        "\n",
        "fraud_train, fraud_test = train_test_split(fraud, test_size=0.3, random_state=42)\n",
        "legit_train, legit_test = train_test_split(legit, test_size=0.3, random_state=42)\n",
        "\n",
        "train_data = pd.concat([fraud_train, legit_train])\n",
        "train_data = train_data.sample(frac=1, random_state=42).reset_index(drop=True)\n",
        "print('Training Data Shape:', train_data.shape)\n",
        "\n",
        "print('Fraud Data test Shape: ', fraud_test.shape)\n",
        "print('Legitimate Data test Shape: ', legit_test.shape)\n",
        "\n",
        "train_data = train_data.values\n",
        "fraud_test = fraud_test.values\n",
        "legit_test = legit_test.values\n",
        "\n",
        "x_train = train_data[:, 1:30]\n",
        "y_train = train_data[:, 30]\n",
        "\n",
        "\n",
        "x_fraud_test = fraud_test[:, 1:30]\n",
        "y_fraud_test = fraud_test[:, 30]\n",
        "\n",
        "x_legit_test = legit_test[:, 1:30]\n",
        "y_legit_test = legit_test[:, 30]\n",
        "\n",
        "scaler = StandardScaler()\n",
        "x_train = scaler.fit_transform(x_train)\n",
        "x_fraud_test = scaler.transform(x_fraud_test)\n",
        "x_legit_test = scaler.transform(x_legit_test)\n",
        "\n",
        "print('X_train Shape:', x_train.shape)\n",
        "print('Y_train Shape:', y_train.shape)\n",
        "print('X_fraud_test Shape:', x_fraud_test.shape)\n",
        "print('Y_fraud_test Shape:', y_fraud_test.shape)\n",
        "print('X_legit_test Shape:', x_legit_test.shape)\n",
        "print('Y_legit_test Shape:', y_legit_test.shape)"
      ],
      "metadata": {
        "id": "zAaPzCc2FxCq",
        "outputId": "1f29b38b-b554-4740-bfa7-46a447fec41e",
        "colab": {
          "base_uri": "https://localhost:8080/"
        }
      },
      "execution_count": 6,
      "outputs": [
        {
          "output_type": "stream",
          "name": "stdout",
          "text": [
            "Training Data Shape: (199364, 31)\n",
            "Fraud Data test Shape:  (148, 31)\n",
            "Legitimate Data test Shape:  (85295, 31)\n",
            "X_train Shape: (199364, 29)\n",
            "Y_train Shape: (199364,)\n",
            "X_fraud_test Shape: (148, 29)\n",
            "Y_fraud_test Shape: (148,)\n",
            "X_legit_test Shape: (85295, 29)\n",
            "Y_legit_test Shape: (85295,)\n"
          ]
        }
      ]
    },
    {
      "cell_type": "code",
      "source": [
        "from sklearn.tree import DecisionTreeClassifier\n",
        "from sklearn.svm import SVC\n",
        "from sklearn.ensemble import RandomForestClassifier, AdaBoostClassifier\n",
        "from sklearn.linear_model import LogisticRegression\n",
        "from sklearn.naive_bayes import GaussianNB, MultinomialNB\n",
        "from sklearn.neighbors import KNeighborsClassifier\n",
        "from xgboost import XGBClassifier\n",
        "\n",
        "def evaluate_model(model, x_train, y_train, x_legit_test, y_legit_test, x_fraud_test, y_fraud_test):\n",
        "    \"\"\"\n",
        "    Evaluates a given model on training and test data.\n",
        "\n",
        "    Args:\n",
        "        model: The machine learning model to evaluate.\n",
        "        x_train, y_train: Training data and labels.\n",
        "        x_legit_test, y_legit_test: Test data and labels for legitimate transactions.\n",
        "        x_fraud_test, y_fraud_test: Test data and labels for fraudulent transactions.\n",
        "\n",
        "    Returns:\n",
        "        A dictionary containing:\n",
        "            - Legitimate accuracy\n",
        "            - Fraud accuracy\n",
        "    \"\"\"\n",
        "    # Train the model\n",
        "    model.fit(x_train, y_train)\n",
        "\n",
        "    # Evaluate accuracies\n",
        "    accuracy_legit = model.score(x_legit_test, y_legit_test)\n",
        "    accuracy_fraud = model.score(x_fraud_test, y_fraud_test)\n",
        "\n",
        "    return {\n",
        "        \"accuracy_legit\": accuracy_legit,\n",
        "        \"accuracy_fraud\": accuracy_fraud\n",
        "    }\n",
        "\n",
        "\n",
        "models = {\n",
        "    \"Decision Tree\": DecisionTreeClassifier(max_depth=4, random_state=42),\n",
        "    \"SVM\": SVC(kernel='rbf', random_state=42),\n",
        "    \"Random Forest\": RandomForestClassifier(n_estimators=100, random_state=42),\n",
        "    \"Logistic Regression\": LogisticRegression(max_iter=1000, random_state=42),\n",
        "    \"AdaBoost\": AdaBoostClassifier(n_estimators=50, random_state=42),\n",
        "    \"GaussianNB\": GaussianNB(),\n",
        "    \"KNN\": KNeighborsClassifier(n_neighbors=5),\n",
        "    \"XGBoost\": XGBClassifier(use_label_encoder=False, eval_metric='logloss', random_state=42)\n",
        "}"
      ],
      "metadata": {
        "id": "aHsV-LxBGQcE"
      },
      "execution_count": 8,
      "outputs": []
    },
    {
      "cell_type": "code",
      "source": [
        "#using SMOTE\n",
        "from imblearn.over_sampling import SMOTE\n",
        "sm = SMOTE(random_state=42)\n",
        "x_train_smote, y_train_smote = sm.fit_resample(x_train, y_train)\n",
        "\n",
        "results = {}\n",
        "for model_name, model in models.items():\n",
        "    print(f\"Evaluating {model_name}...\")\n",
        "    results[model_name] = evaluate_model(model, x_train_smote, y_train_smote, x_legit_test, y_legit_test, x_fraud_test, y_fraud_test)\n",
        "    print(f\"{model_name} Legit Accuracy: {results[model_name]['accuracy_legit']:.5f}\")\n",
        "    print(f\"{model_name} Fraud Accuracy: {results[model_name]['accuracy_fraud']:.5f}\")"
      ],
      "metadata": {
        "id": "s99oBVXJG-OD",
        "outputId": "5f2b1e3c-8b8c-4710-9c7e-dc21757b4506",
        "colab": {
          "base_uri": "https://localhost:8080/"
        }
      },
      "execution_count": null,
      "outputs": [
        {
          "metadata": {
            "tags": null
          },
          "name": "stdout",
          "output_type": "stream",
          "text": [
            "Evaluating Decision Tree...\n",
            "Decision Tree Legit Accuracy: 0.94620\n",
            "Decision Tree Fraud Accuracy: 0.91892\n",
            "Evaluating SVM...\n"
          ]
        }
      ]
    },
    {
      "cell_type": "code",
      "source": [
        "results"
      ],
      "metadata": {
        "id": "HRV23t2SMqxM",
        "outputId": "a1451641-5f06-4202-eb66-562179f80560",
        "colab": {
          "base_uri": "https://localhost:8080/"
        }
      },
      "execution_count": 22,
      "outputs": [
        {
          "output_type": "execute_result",
          "data": {
            "text/plain": [
              "{'Decision Tree': {'accuracy_legit': 0.9461984876018524,\n",
              "  'accuracy_fraud': 0.918918918918919},\n",
              " 'SVM': {'accuracy_legit': 0.9843601617914297,\n",
              "  'accuracy_fraud': 0.8851351351351351},\n",
              " 'Random Forest': {'accuracy_legit': 0.9997537956503898,\n",
              "  'accuracy_fraud': 0.8243243243243243},\n",
              " 'Logistic Regression': {'accuracy_legit': 0.9741719913242277,\n",
              "  'accuracy_fraud': 0.9324324324324325},\n",
              " 'AdaBoost': {'accuracy_legit': 0.967758954217715,\n",
              "  'accuracy_fraud': 0.918918918918919},\n",
              " 'GaussianNB': {'accuracy_legit': 0.9760361099712762,\n",
              "  'accuracy_fraud': 0.8648648648648649},\n",
              " 'KNN': {'accuracy_legit': 0.9984055337358579,\n",
              "  'accuracy_fraud': 0.8581081081081081},\n",
              " 'XGBoost': {'accuracy_legit': 0.9993669031010024,\n",
              "  'accuracy_fraud': 0.8581081081081081}}"
            ]
          },
          "metadata": {},
          "execution_count": 22
        }
      ]
    },
    {
      "cell_type": "code",
      "source": [
        "# Using AdaSyn\n",
        "from imblearn.over_sampling import ADASYN\n",
        "\n",
        "# Apply AdaSyn for oversampling\n",
        "adasyn = ADASYN(random_state=42)\n",
        "x_train_adasyn, y_train_adasyn = adasyn.fit_resample(x_train, y_train)\n",
        "\n",
        "results_adasyn = {}\n",
        "for model_name, model in models.items():\n",
        "    print(f\"Evaluating {model_name}...\")\n",
        "    results_adasyn[model_name] = evaluate_model(model, x_train_adasyn, y_train_adasyn, x_legit_test, y_legit_test, x_fraud_test, y_fraud_test)\n",
        "    print(f\"{model_name} Legit Accuracy: {results_adasyn[model_name]['accuracy_legit']:.5f}\")\n",
        "    print(f\"{model_name} Fraud Accuracy: {results_adasyn[model_name]['accuracy_fraud']:.5f}\")\n"
      ],
      "metadata": {
        "id": "FhMI76qAXy5_",
        "outputId": "a13e9209-9650-4a81-8acb-154924c31474",
        "colab": {
          "base_uri": "https://localhost:8080/"
        }
      },
      "execution_count": 9,
      "outputs": [
        {
          "output_type": "stream",
          "name": "stdout",
          "text": [
            "Evaluating Decision Tree...\n",
            "Decision Tree Legit Accuracy: 0.86322\n",
            "Decision Tree Fraud Accuracy: 0.95270\n",
            "Evaluating SVM...\n",
            "SVM Legit Accuracy: 0.98554\n",
            "SVM Fraud Accuracy: 0.75676\n",
            "Evaluating Random Forest...\n",
            "Random Forest Legit Accuracy: 0.99973\n",
            "Random Forest Fraud Accuracy: 0.83108\n",
            "Evaluating Logistic Regression...\n",
            "Logistic Regression Legit Accuracy: 0.91022\n",
            "Logistic Regression Fraud Accuracy: 0.94595\n",
            "Evaluating AdaBoost...\n",
            "AdaBoost Legit Accuracy: 0.91182\n",
            "AdaBoost Fraud Accuracy: 0.92568\n",
            "Evaluating GaussianNB...\n",
            "GaussianNB Legit Accuracy: 0.96194\n",
            "GaussianNB Fraud Accuracy: 0.88514\n",
            "Evaluating KNN...\n",
            "KNN Legit Accuracy: 0.99841\n",
            "KNN Fraud Accuracy: 0.85811\n",
            "Evaluating XGBoost...\n"
          ]
        },
        {
          "output_type": "stream",
          "name": "stderr",
          "text": [
            "/usr/local/lib/python3.11/dist-packages/xgboost/core.py:158: UserWarning: [15:33:58] WARNING: /workspace/src/learner.cc:740: \n",
            "Parameters: { \"use_label_encoder\" } are not used.\n",
            "\n",
            "  warnings.warn(smsg, UserWarning)\n"
          ]
        },
        {
          "output_type": "stream",
          "name": "stdout",
          "text": [
            "XGBoost Legit Accuracy: 0.99927\n",
            "XGBoost Fraud Accuracy: 0.85135\n"
          ]
        }
      ]
    },
    {
      "cell_type": "code",
      "source": [
        "results_adasyn"
      ],
      "metadata": {
        "id": "dDTS3n87pvRo",
        "outputId": "aab692ba-0303-4f23-cd3d-7b504a01aa86",
        "colab": {
          "base_uri": "https://localhost:8080/"
        }
      },
      "execution_count": 10,
      "outputs": [
        {
          "output_type": "execute_result",
          "data": {
            "text/plain": [
              "{'Decision Tree': {'accuracy_legit': 0.8632158977665748,\n",
              "  'accuracy_fraud': 0.9527027027027027},\n",
              " 'SVM': {'accuracy_legit': 0.9855442874728882,\n",
              "  'accuracy_fraud': 0.7567567567567568},\n",
              " 'Random Forest': {'accuracy_legit': 0.9997303476170936,\n",
              "  'accuracy_fraud': 0.831081081081081},\n",
              " 'Logistic Regression': {'accuracy_legit': 0.9102174805088223,\n",
              "  'accuracy_fraud': 0.9459459459459459},\n",
              " 'AdaBoost': {'accuracy_legit': 0.9118236707896126,\n",
              "  'accuracy_fraud': 0.9256756756756757},\n",
              " 'GaussianNB': {'accuracy_legit': 0.9619438419602556,\n",
              "  'accuracy_fraud': 0.8851351351351351},\n",
              " 'KNN': {'accuracy_legit': 0.9984055337358579,\n",
              "  'accuracy_fraud': 0.8581081081081081},\n",
              " 'XGBoost': {'accuracy_legit': 0.9992731109678176,\n",
              "  'accuracy_fraud': 0.8513513513513513}}"
            ]
          },
          "metadata": {},
          "execution_count": 10
        }
      ]
    },
    {
      "cell_type": "code",
      "source": [
        "# Using Random Oversampling (ROS)\n",
        "from imblearn.over_sampling import RandomOverSampler\n",
        "\n",
        "# Apply Random Oversampling\n",
        "ros = RandomOverSampler(random_state=42)\n",
        "x_train_ros, y_train_ros = ros.fit_resample(x_train, y_train)\n",
        "\n",
        "# Evaluate models on the ROS-balanced dataset\n",
        "results_ros = {}\n",
        "for model_name, model in models.items():\n",
        "    print(f\"Evaluating {model_name}...\")\n",
        "    results_ros[model_name] = evaluate_model(model, x_train_ros, y_train_ros, x_legit_test, y_legit_test, x_fraud_test, y_fraud_test)\n",
        "    print(f\"{model_name} Legit Accuracy: {results_ros[model_name]['accuracy_legit']:.5f}\")\n",
        "    print(f\"{model_name} Fraud Accuracy: {results_ros[model_name]['accuracy_fraud']:.5f}\")\n"
      ],
      "metadata": {
        "id": "RRXsF8pDp1mK",
        "outputId": "d846acf3-00e6-4776-cc2f-4e67c73e71cf",
        "colab": {
          "base_uri": "https://localhost:8080/"
        }
      },
      "execution_count": 11,
      "outputs": [
        {
          "output_type": "stream",
          "name": "stdout",
          "text": [
            "Evaluating Decision Tree...\n",
            "Decision Tree Legit Accuracy: 0.96186\n",
            "Decision Tree Fraud Accuracy: 0.88514\n",
            "Evaluating SVM...\n",
            "SVM Legit Accuracy: 0.98658\n",
            "SVM Fraud Accuracy: 0.90541\n",
            "Evaluating Random Forest...\n",
            "Random Forest Legit Accuracy: 0.99988\n",
            "Random Forest Fraud Accuracy: 0.82432\n",
            "Evaluating Logistic Regression...\n",
            "Logistic Regression Legit Accuracy: 0.97607\n",
            "Logistic Regression Fraud Accuracy: 0.93243\n",
            "Evaluating AdaBoost...\n",
            "AdaBoost Legit Accuracy: 0.97692\n",
            "AdaBoost Fraud Accuracy: 0.89189\n",
            "Evaluating GaussianNB...\n",
            "GaussianNB Legit Accuracy: 0.97404\n",
            "GaussianNB Fraud Accuracy: 0.85811\n",
            "Evaluating KNN...\n",
            "KNN Legit Accuracy: 0.99938\n",
            "KNN Fraud Accuracy: 0.82432\n",
            "Evaluating XGBoost...\n"
          ]
        },
        {
          "output_type": "stream",
          "name": "stderr",
          "text": [
            "/usr/local/lib/python3.11/dist-packages/xgboost/core.py:158: UserWarning: [16:12:36] WARNING: /workspace/src/learner.cc:740: \n",
            "Parameters: { \"use_label_encoder\" } are not used.\n",
            "\n",
            "  warnings.warn(smsg, UserWarning)\n"
          ]
        },
        {
          "output_type": "stream",
          "name": "stdout",
          "text": [
            "XGBoost Legit Accuracy: 0.99982\n",
            "XGBoost Fraud Accuracy: 0.83108\n"
          ]
        }
      ]
    }
  ],
  "metadata": {
    "colab": {
      "name": "Welcome To Colab",
      "provenance": []
    },
    "kernelspec": {
      "display_name": "Python 3",
      "name": "python3"
    }
  },
  "nbformat": 4,
  "nbformat_minor": 0
}