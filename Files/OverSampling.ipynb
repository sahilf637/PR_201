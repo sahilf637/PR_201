{
 "cells": [
  {
   "cell_type": "markdown",
   "metadata": {
    "id": "Wa-urBY3HmVw"
   },
   "source": [
    "# Oversampling Techniques for Imbalanced Datasets\n",
    "\n",
    "In this notebook, we explore various **oversampling techniques** that are commonly used to handle imbalanced datasets, especially in classification tasks. These techniques aim to balance the class distribution by increasing the number of samples in the minority class.\n",
    "\n",
    "## 1. **Synthetic Minority Oversampling Technique (SMOTE)**\n",
    "SMOTE is a popular oversampling technique that generates synthetic samples for the minority class by interpolating between existing samples. It helps in creating more diverse samples, reducing overfitting in imbalanced datasets.\n",
    "\n",
    "## 2. **Adaptive Synthetic Sampling (AdaSyn)**\n",
    "AdaSyn is an enhancement of SMOTE that focuses on generating more synthetic samples near the decision boundary of the minority class. It prioritizes difficult-to-learn examples, making the classifier's decision boundary more accurate.\n",
    "\n",
    "## 3. **Random Oversampling (ROS)**\n",
    "ROS is a simpler technique where samples from the minority class are randomly duplicated until the dataset achieves a more balanced distribution. While easy to implement, this method may lead to overfitting due to the duplication of minority class samples.\n",
    "\n",
    "---\n",
    "These techniques are crucial when dealing with imbalanced datasets, as they help improve the model's performance by providing more examples of the minority class.\n"
   ]
  },
  {
   "cell_type": "code",
   "execution_count": 4,
   "metadata": {
    "colab": {
     "base_uri": "https://localhost:8080/"
    },
    "id": "2TGrxsc8FQ66",
    "outputId": "b7216dde-1013-493a-b32d-d16518c6da2b"
   },
   "outputs": [],
   "source": [
    "# from google.colab import drive\n",
    "# drive.mount('/content/drive')"
   ]
  },
  {
   "cell_type": "code",
   "execution_count": 5,
   "metadata": {
    "id": "0sGQ_O5iFj8L"
   },
   "outputs": [],
   "source": [
    "import pandas as pd\n",
    "import numpy as np\n",
    "import matplotlib.pyplot as plt\n",
    "import seaborn as sns"
   ]
  },
  {
   "cell_type": "code",
   "execution_count": 6,
   "metadata": {
    "id": "BsVLToQIFmIM"
   },
   "outputs": [],
   "source": [
    "df=pd.read_csv('/home/saumyaryan/Documents/PR/PR_201/Files/creditcard.csv')"
   ]
  },
  {
   "cell_type": "code",
   "execution_count": 7,
   "metadata": {
    "colab": {
     "base_uri": "https://localhost:8080/",
     "height": 236
    },
    "id": "czOjYc14FqhI",
    "outputId": "014fab65-1466-44bc-f3c9-2e075012c120"
   },
   "outputs": [
    {
     "data": {
      "text/html": [
       "<div>\n",
       "<style scoped>\n",
       "    .dataframe tbody tr th:only-of-type {\n",
       "        vertical-align: middle;\n",
       "    }\n",
       "\n",
       "    .dataframe tbody tr th {\n",
       "        vertical-align: top;\n",
       "    }\n",
       "\n",
       "    .dataframe thead th {\n",
       "        text-align: right;\n",
       "    }\n",
       "</style>\n",
       "<table border=\"1\" class=\"dataframe\">\n",
       "  <thead>\n",
       "    <tr style=\"text-align: right;\">\n",
       "      <th></th>\n",
       "      <th>Time</th>\n",
       "      <th>V1</th>\n",
       "      <th>V2</th>\n",
       "      <th>V3</th>\n",
       "      <th>V4</th>\n",
       "      <th>V5</th>\n",
       "      <th>V6</th>\n",
       "      <th>V7</th>\n",
       "      <th>V8</th>\n",
       "      <th>V9</th>\n",
       "      <th>...</th>\n",
       "      <th>V21</th>\n",
       "      <th>V22</th>\n",
       "      <th>V23</th>\n",
       "      <th>V24</th>\n",
       "      <th>V25</th>\n",
       "      <th>V26</th>\n",
       "      <th>V27</th>\n",
       "      <th>V28</th>\n",
       "      <th>Amount</th>\n",
       "      <th>Class</th>\n",
       "    </tr>\n",
       "  </thead>\n",
       "  <tbody>\n",
       "    <tr>\n",
       "      <th>0</th>\n",
       "      <td>0.0</td>\n",
       "      <td>-1.359807</td>\n",
       "      <td>-0.072781</td>\n",
       "      <td>2.536347</td>\n",
       "      <td>1.378155</td>\n",
       "      <td>-0.338321</td>\n",
       "      <td>0.462388</td>\n",
       "      <td>0.239599</td>\n",
       "      <td>0.098698</td>\n",
       "      <td>0.363787</td>\n",
       "      <td>...</td>\n",
       "      <td>-0.018307</td>\n",
       "      <td>0.277838</td>\n",
       "      <td>-0.110474</td>\n",
       "      <td>0.066928</td>\n",
       "      <td>0.128539</td>\n",
       "      <td>-0.189115</td>\n",
       "      <td>0.133558</td>\n",
       "      <td>-0.021053</td>\n",
       "      <td>149.62</td>\n",
       "      <td>0</td>\n",
       "    </tr>\n",
       "    <tr>\n",
       "      <th>1</th>\n",
       "      <td>0.0</td>\n",
       "      <td>1.191857</td>\n",
       "      <td>0.266151</td>\n",
       "      <td>0.166480</td>\n",
       "      <td>0.448154</td>\n",
       "      <td>0.060018</td>\n",
       "      <td>-0.082361</td>\n",
       "      <td>-0.078803</td>\n",
       "      <td>0.085102</td>\n",
       "      <td>-0.255425</td>\n",
       "      <td>...</td>\n",
       "      <td>-0.225775</td>\n",
       "      <td>-0.638672</td>\n",
       "      <td>0.101288</td>\n",
       "      <td>-0.339846</td>\n",
       "      <td>0.167170</td>\n",
       "      <td>0.125895</td>\n",
       "      <td>-0.008983</td>\n",
       "      <td>0.014724</td>\n",
       "      <td>2.69</td>\n",
       "      <td>0</td>\n",
       "    </tr>\n",
       "    <tr>\n",
       "      <th>2</th>\n",
       "      <td>1.0</td>\n",
       "      <td>-1.358354</td>\n",
       "      <td>-1.340163</td>\n",
       "      <td>1.773209</td>\n",
       "      <td>0.379780</td>\n",
       "      <td>-0.503198</td>\n",
       "      <td>1.800499</td>\n",
       "      <td>0.791461</td>\n",
       "      <td>0.247676</td>\n",
       "      <td>-1.514654</td>\n",
       "      <td>...</td>\n",
       "      <td>0.247998</td>\n",
       "      <td>0.771679</td>\n",
       "      <td>0.909412</td>\n",
       "      <td>-0.689281</td>\n",
       "      <td>-0.327642</td>\n",
       "      <td>-0.139097</td>\n",
       "      <td>-0.055353</td>\n",
       "      <td>-0.059752</td>\n",
       "      <td>378.66</td>\n",
       "      <td>0</td>\n",
       "    </tr>\n",
       "    <tr>\n",
       "      <th>3</th>\n",
       "      <td>1.0</td>\n",
       "      <td>-0.966272</td>\n",
       "      <td>-0.185226</td>\n",
       "      <td>1.792993</td>\n",
       "      <td>-0.863291</td>\n",
       "      <td>-0.010309</td>\n",
       "      <td>1.247203</td>\n",
       "      <td>0.237609</td>\n",
       "      <td>0.377436</td>\n",
       "      <td>-1.387024</td>\n",
       "      <td>...</td>\n",
       "      <td>-0.108300</td>\n",
       "      <td>0.005274</td>\n",
       "      <td>-0.190321</td>\n",
       "      <td>-1.175575</td>\n",
       "      <td>0.647376</td>\n",
       "      <td>-0.221929</td>\n",
       "      <td>0.062723</td>\n",
       "      <td>0.061458</td>\n",
       "      <td>123.50</td>\n",
       "      <td>0</td>\n",
       "    </tr>\n",
       "    <tr>\n",
       "      <th>4</th>\n",
       "      <td>2.0</td>\n",
       "      <td>-1.158233</td>\n",
       "      <td>0.877737</td>\n",
       "      <td>1.548718</td>\n",
       "      <td>0.403034</td>\n",
       "      <td>-0.407193</td>\n",
       "      <td>0.095921</td>\n",
       "      <td>0.592941</td>\n",
       "      <td>-0.270533</td>\n",
       "      <td>0.817739</td>\n",
       "      <td>...</td>\n",
       "      <td>-0.009431</td>\n",
       "      <td>0.798278</td>\n",
       "      <td>-0.137458</td>\n",
       "      <td>0.141267</td>\n",
       "      <td>-0.206010</td>\n",
       "      <td>0.502292</td>\n",
       "      <td>0.219422</td>\n",
       "      <td>0.215153</td>\n",
       "      <td>69.99</td>\n",
       "      <td>0</td>\n",
       "    </tr>\n",
       "  </tbody>\n",
       "</table>\n",
       "<p>5 rows × 31 columns</p>\n",
       "</div>"
      ],
      "text/plain": [
       "   Time        V1        V2        V3        V4        V5        V6        V7  \\\n",
       "0   0.0 -1.359807 -0.072781  2.536347  1.378155 -0.338321  0.462388  0.239599   \n",
       "1   0.0  1.191857  0.266151  0.166480  0.448154  0.060018 -0.082361 -0.078803   \n",
       "2   1.0 -1.358354 -1.340163  1.773209  0.379780 -0.503198  1.800499  0.791461   \n",
       "3   1.0 -0.966272 -0.185226  1.792993 -0.863291 -0.010309  1.247203  0.237609   \n",
       "4   2.0 -1.158233  0.877737  1.548718  0.403034 -0.407193  0.095921  0.592941   \n",
       "\n",
       "         V8        V9  ...       V21       V22       V23       V24       V25  \\\n",
       "0  0.098698  0.363787  ... -0.018307  0.277838 -0.110474  0.066928  0.128539   \n",
       "1  0.085102 -0.255425  ... -0.225775 -0.638672  0.101288 -0.339846  0.167170   \n",
       "2  0.247676 -1.514654  ...  0.247998  0.771679  0.909412 -0.689281 -0.327642   \n",
       "3  0.377436 -1.387024  ... -0.108300  0.005274 -0.190321 -1.175575  0.647376   \n",
       "4 -0.270533  0.817739  ... -0.009431  0.798278 -0.137458  0.141267 -0.206010   \n",
       "\n",
       "        V26       V27       V28  Amount  Class  \n",
       "0 -0.189115  0.133558 -0.021053  149.62      0  \n",
       "1  0.125895 -0.008983  0.014724    2.69      0  \n",
       "2 -0.139097 -0.055353 -0.059752  378.66      0  \n",
       "3 -0.221929  0.062723  0.061458  123.50      0  \n",
       "4  0.502292  0.219422  0.215153   69.99      0  \n",
       "\n",
       "[5 rows x 31 columns]"
      ]
     },
     "execution_count": 7,
     "metadata": {},
     "output_type": "execute_result"
    }
   ],
   "source": [
    "df.head()"
   ]
  },
  {
   "cell_type": "code",
   "execution_count": 8,
   "metadata": {
    "colab": {
     "base_uri": "https://localhost:8080/"
    },
    "id": "xJNPCycWGNYI",
    "outputId": "517f4526-2cc3-47f5-a538-72510cc77600"
   },
   "outputs": [
    {
     "name": "stdout",
     "output_type": "stream",
     "text": [
      "Fraudulent Transactions: 492\n",
      "Legitimate Transactions: 284315\n"
     ]
    }
   ],
   "source": [
    "fraud = df[df['Class'] == 1]\n",
    "legit = df[df['Class'] == 0]\n",
    "\n",
    "print('Fraudulent Transactions:', len(fraud))\n",
    "print('Legitimate Transactions:', len(legit))"
   ]
  },
  {
   "cell_type": "code",
   "execution_count": 9,
   "metadata": {
    "colab": {
     "base_uri": "https://localhost:8080/"
    },
    "id": "zAaPzCc2FxCq",
    "outputId": "604bc0ce-9b8e-4760-f74c-975591b69694"
   },
   "outputs": [
    {
     "name": "stdout",
     "output_type": "stream",
     "text": [
      "Training Data Shape: (199364, 31)\n",
      "Fraud Data test Shape:  (148, 31)\n",
      "Legitimate Data test Shape:  (85295, 31)\n",
      "X_train Shape: (199364, 29)\n",
      "Y_train Shape: (199364,)\n",
      "X_fraud_test Shape: (148, 29)\n",
      "Y_fraud_test Shape: (148,)\n",
      "X_legit_test Shape: (85295, 29)\n",
      "Y_legit_test Shape: (85295,)\n"
     ]
    }
   ],
   "source": [
    "from sklearn.preprocessing import StandardScaler\n",
    "from sklearn.model_selection import train_test_split # Import train_test_split\n",
    "\n",
    "\n",
    "df.iloc[:, 1:30] = StandardScaler().fit_transform(df.iloc[:, 1:30])\n",
    "\n",
    "fraud_train, fraud_test = train_test_split(fraud, test_size=0.3, random_state=42)\n",
    "legit_train, legit_test = train_test_split(legit, test_size=0.3, random_state=42)\n",
    "\n",
    "train_data = pd.concat([fraud_train, legit_train])\n",
    "train_data = train_data.sample(frac=1, random_state=42).reset_index(drop=True)\n",
    "print('Training Data Shape:', train_data.shape)\n",
    "\n",
    "print('Fraud Data test Shape: ', fraud_test.shape)\n",
    "print('Legitimate Data test Shape: ', legit_test.shape)\n",
    "\n",
    "train_data = train_data.values\n",
    "fraud_test = fraud_test.values\n",
    "legit_test = legit_test.values\n",
    "\n",
    "x_train = train_data[:, 1:30]\n",
    "y_train = train_data[:, 30]\n",
    "\n",
    "\n",
    "x_fraud_test = fraud_test[:, 1:30]\n",
    "y_fraud_test = fraud_test[:, 30]\n",
    "\n",
    "x_legit_test = legit_test[:, 1:30]\n",
    "y_legit_test = legit_test[:, 30]\n",
    "\n",
    "scaler = StandardScaler()\n",
    "x_train = scaler.fit_transform(x_train)\n",
    "x_fraud_test = scaler.transform(x_fraud_test)\n",
    "x_legit_test = scaler.transform(x_legit_test)\n",
    "\n",
    "print('X_train Shape:', x_train.shape)\n",
    "print('Y_train Shape:', y_train.shape)\n",
    "print('X_fraud_test Shape:', x_fraud_test.shape)\n",
    "print('Y_fraud_test Shape:', y_fraud_test.shape)\n",
    "print('X_legit_test Shape:', x_legit_test.shape)\n",
    "print('Y_legit_test Shape:', y_legit_test.shape)"
   ]
  },
  {
   "cell_type": "code",
   "execution_count": 10,
   "metadata": {
    "id": "aHsV-LxBGQcE"
   },
   "outputs": [],
   "source": [
    "from sklearn.tree import DecisionTreeClassifier\n",
    "from sklearn.svm import SVC\n",
    "from sklearn.ensemble import RandomForestClassifier, AdaBoostClassifier\n",
    "from sklearn.linear_model import LogisticRegression\n",
    "from sklearn.naive_bayes import GaussianNB\n",
    "from sklearn.neighbors import KNeighborsClassifier\n",
    "from xgboost import XGBClassifier\n",
    "from joblib import parallel_backend\n",
    "\n",
    "def evaluate_model(model, x_train, y_train, x_legit_test, y_legit_test, x_fraud_test, y_fraud_test):\n",
    "    \"\"\"\n",
    "    Evaluates a given model on training and test data.\n",
    "\n",
    "    Args:\n",
    "        model: The machine learning model to evaluate.\n",
    "        x_train, y_train: Training data and labels.\n",
    "        x_legit_test, y_legit_test: Test data and labels for legitimate transactions.\n",
    "        x_fraud_test, y_fraud_test: Test data and labels for fraudulent transactions.\n",
    "\n",
    "    Returns:\n",
    "        A dictionary containing:\n",
    "            - Legitimate accuracy\n",
    "            - Fraud accuracy\n",
    "    \"\"\"\n",
    "    with parallel_backend('loky'):\n",
    "        # Train the model\n",
    "        model.fit(x_train, y_train)\n",
    "\n",
    "    # Evaluate accuracies\n",
    "    accuracy_legit = model.score(x_legit_test, y_legit_test)\n",
    "    accuracy_fraud = model.score(x_fraud_test, y_fraud_test)\n",
    "\n",
    "    return {\n",
    "        \"accuracy_legit\": accuracy_legit,\n",
    "        \"accuracy_fraud\": accuracy_fraud\n",
    "    }\n",
    "\n",
    "\n",
    "models = {\n",
    "    \"Decision Tree\": DecisionTreeClassifier(max_depth=4, random_state=42),\n",
    "    \"SVM\": SVC(kernel='rbf', random_state=42),\n",
    "    \"Random Forest\": RandomForestClassifier(n_estimators=100, n_jobs=-1, random_state=42),\n",
    "    \"Logistic Regression\": LogisticRegression(max_iter=1000, n_jobs=-1, random_state=42),\n",
    "    \"AdaBoost\": AdaBoostClassifier(n_estimators=50, random_state=42),\n",
    "    \"GaussianNB\": GaussianNB(),\n",
    "    \"KNN\": KNeighborsClassifier(n_neighbors=5, n_jobs=-1),\n",
    "    \"XGBoost\": XGBClassifier(use_label_encoder=False, eval_metric='logloss', n_jobs=-1, random_state=42)\n",
    "}\n"
   ]
  },
  {
   "cell_type": "code",
   "execution_count": null,
   "metadata": {
    "colab": {
     "base_uri": "https://localhost:8080/"
    },
    "id": "s99oBVXJG-OD",
    "outputId": "b9051c6c-8d9d-446a-d714-d447a00c25df"
   },
   "outputs": [
    {
     "name": "stdout",
     "output_type": "stream",
     "text": [
      "Evaluating Decision Tree...\n",
      "Decision Tree Legit Accuracy: 0.94620\n",
      "Decision Tree Fraud Accuracy: 0.91892\n",
      "Evaluating SVM...\n"
     ]
    }
   ],
   "source": [
    "#using SMOTE\n",
    "from imblearn.over_sampling import SMOTE\n",
    "sm = SMOTE(random_state=42)\n",
    "x_train_smote, y_train_smote = sm.fit_resample(x_train, y_train)\n",
    "\n",
    "results = {}\n",
    "for model_name, model in models.items():\n",
    "    print(f\"Evaluating {model_name}...\")\n",
    "    results[model_name] = evaluate_model(model, x_train_smote, y_train_smote, x_legit_test, y_legit_test, x_fraud_test, y_fraud_test)\n",
    "    print(f\"{model_name} Legit Accuracy: {results[model_name]['accuracy_legit']:.5f}\")\n",
    "    print(f\"{model_name} Fraud Accuracy: {results[model_name]['accuracy_fraud']:.5f}\")"
   ]
  },
  {
   "cell_type": "code",
   "execution_count": null,
   "metadata": {
    "colab": {
     "base_uri": "https://localhost:8080/"
    },
    "id": "HRV23t2SMqxM",
    "outputId": "3eacd606-424d-46a9-b7b8-7a0067a2d76a"
   },
   "outputs": [
    {
     "name": "stdout",
     "output_type": "stream",
     "text": [
      "shape of x_train_rus (398040, 29)\n",
      "shape of y_train_rus (398040,)\n",
      "{'Decision Tree': {'accuracy_legit': 0.9461984876018524, 'accuracy_fraud': 0.918918918918919}, 'SVM': {'accuracy_legit': 0.9843601617914297, 'accuracy_fraud': 0.8851351351351351}, 'Random Forest': {'accuracy_legit': 0.9997537956503898, 'accuracy_fraud': 0.8243243243243243}, 'Logistic Regression': {'accuracy_legit': 0.9741719913242277, 'accuracy_fraud': 0.9324324324324325}, 'AdaBoost': {'accuracy_legit': 0.967758954217715, 'accuracy_fraud': 0.918918918918919}, 'GaussianNB': {'accuracy_legit': 0.9760361099712762, 'accuracy_fraud': 0.8648648648648649}, 'KNN': {'accuracy_legit': 0.9984055337358579, 'accuracy_fraud': 0.8581081081081081}, 'XGBoost': {'accuracy_legit': 0.9993669031010024, 'accuracy_fraud': 0.8581081081081081}}\n"
     ]
    }
   ],
   "source": [
    "print('shape of x_train_rus', x_train_smote.shape)\n",
    "print('shape of y_train_rus', y_train_smote.shape)\n",
    "\n",
    "print(results)"
   ]
  },
  {
   "cell_type": "code",
   "execution_count": null,
   "metadata": {
    "colab": {
     "base_uri": "https://localhost:8080/"
    },
    "id": "FhMI76qAXy5_",
    "outputId": "37fb9450-f5ec-4c2f-e8fb-7ba3021457d3"
   },
   "outputs": [
    {
     "name": "stdout",
     "output_type": "stream",
     "text": [
      "Evaluating Decision Tree...\n",
      "Decision Tree Legit Accuracy: 0.86322\n",
      "Decision Tree Fraud Accuracy: 0.95270\n",
      "Evaluating SVM...\n",
      "SVM Legit Accuracy: 0.98554\n",
      "SVM Fraud Accuracy: 0.75676\n",
      "Evaluating Random Forest...\n",
      "Random Forest Legit Accuracy: 0.99973\n",
      "Random Forest Fraud Accuracy: 0.83108\n",
      "Evaluating Logistic Regression...\n",
      "Logistic Regression Legit Accuracy: 0.91022\n",
      "Logistic Regression Fraud Accuracy: 0.94595\n",
      "Evaluating AdaBoost...\n",
      "AdaBoost Legit Accuracy: 0.91182\n",
      "AdaBoost Fraud Accuracy: 0.92568\n",
      "Evaluating GaussianNB...\n",
      "GaussianNB Legit Accuracy: 0.96194\n",
      "GaussianNB Fraud Accuracy: 0.88514\n",
      "Evaluating KNN...\n",
      "KNN Legit Accuracy: 0.99841\n",
      "KNN Fraud Accuracy: 0.85811\n",
      "Evaluating XGBoost...\n"
     ]
    },
    {
     "name": "stderr",
     "output_type": "stream",
     "text": [
      "/usr/local/lib/python3.11/dist-packages/xgboost/core.py:158: UserWarning: [21:45:37] WARNING: /workspace/src/learner.cc:740: \n",
      "Parameters: { \"use_label_encoder\" } are not used.\n",
      "\n",
      "  warnings.warn(smsg, UserWarning)\n"
     ]
    },
    {
     "name": "stdout",
     "output_type": "stream",
     "text": [
      "XGBoost Legit Accuracy: 0.99927\n",
      "XGBoost Fraud Accuracy: 0.85135\n"
     ]
    }
   ],
   "source": [
    "# Using AdaSyn\n",
    "from imblearn.over_sampling import ADASYN\n",
    "\n",
    "# Apply AdaSyn for oversampling\n",
    "adasyn = ADASYN(random_state=42)\n",
    "x_train_adasyn, y_train_adasyn = adasyn.fit_resample(x_train, y_train)\n",
    "\n",
    "results_adasyn = {}\n",
    "for model_name, model in models.items():\n",
    "    print(f\"Evaluating {model_name}...\")\n",
    "    results_adasyn[model_name] = evaluate_model(model, x_train_adasyn, y_train_adasyn, x_legit_test, y_legit_test, x_fraud_test, y_fraud_test)\n",
    "    print(f\"{model_name} Legit Accuracy: {results_adasyn[model_name]['accuracy_legit']:.5f}\")\n",
    "    print(f\"{model_name} Fraud Accuracy: {results_adasyn[model_name]['accuracy_fraud']:.5f}\")\n"
   ]
  },
  {
   "cell_type": "code",
   "execution_count": null,
   "metadata": {
    "id": "dDTS3n87pvRo"
   },
   "outputs": [],
   "source": [
    "results_adasyn"
   ]
  },
  {
   "cell_type": "code",
   "execution_count": null,
   "metadata": {
    "id": "RRXsF8pDp1mK"
   },
   "outputs": [],
   "source": [
    "# Using Random Oversampling (ROS)\n",
    "from imblearn.over_sampling import RandomOverSampler\n",
    "\n",
    "# Apply Random Oversampling\n",
    "ros = RandomOverSampler(random_state=42)\n",
    "x_train_ros, y_train_ros = ros.fit_resample(x_train, y_train)\n",
    "\n",
    "# Evaluate models on the ROS-balanced dataset\n",
    "results_ros = {}\n",
    "for model_name, model in models.items():\n",
    "    print(f\"Evaluating {model_name}...\")\n",
    "    results_ros[model_name] = evaluate_model(model, x_train_ros, y_train_ros, x_legit_test, y_legit_test, x_fraud_test, y_fraud_test)\n",
    "    print(f\"{model_name} Legit Accuracy: {results_ros[model_name]['accuracy_legit']:.5f}\")\n",
    "    print(f\"{model_name} Fraud Accuracy: {results_ros[model_name]['accuracy_fraud']:.5f}\")\n"
   ]
  },
  {
   "cell_type": "code",
   "execution_count": null,
   "metadata": {
    "colab": {
     "base_uri": "https://localhost:8080/",
     "height": 607
    },
    "id": "KiYZ3tiioP_x",
    "outputId": "a6ba1116-21c8-4470-f805-e574d3707569"
   },
   "outputs": [
    {
     "data": {
      "image/png": "[encoded data removed]",
      "text/plain": [
       "<Figure size 1200x600 with 1 Axes>"
      ]
     },
     "metadata": {},
     "output_type": "display_data"
    }
   ],
   "source": [
    "import matplotlib.pyplot as plt\n",
    "import numpy as np\n",
    "\n",
    "# Accuracy data (replace with your actual data)\n",
    "results = results\n",
    "\n",
    "# Extract model names and their accuracy values\n",
    "models = list(results.keys())\n",
    "legit_accuracies = [results[model]['accuracy_legit'] for model in models]\n",
    "fraud_accuracies = [results[model]['accuracy_fraud'] for model in models]\n",
    "\n",
    "x = np.arange(len(models))  # Model positions\n",
    "width = 0.35  # Width of the bars\n",
    "\n",
    "fig, ax = plt.subplots(figsize=(12, 6))\n",
    "\n",
    "# Plotting legitimate and fraud accuracies\n",
    "bars1 = ax.bar(x - width/2, legit_accuracies, width, label='Legit Accuracy', color='skyblue')\n",
    "bars2 = ax.bar(x + width/2, fraud_accuracies, width, label='Fraud Accuracy', color='salmon')\n",
    "\n",
    "# Add labels and title\n",
    "ax.set_xlabel('Models')\n",
    "ax.set_ylabel('Accuracy')\n",
    "ax.set_title('Comparison of Legitimate and Fraud Detection Accuracies Using SMOTE')\n",
    "ax.set_xticks(x)\n",
    "ax.set_xticklabels(models, rotation=45, ha=\"right\")\n",
    "ax.legend()\n",
    "\n",
    "# Annotating bars with values\n",
    "for bar in bars1 + bars2:\n",
    "    height = bar.get_height()\n",
    "    ax.annotate(f'{height:.3f}',\n",
    "                xy=(bar.get_x() + bar.get_width() / 2, height),\n",
    "                xytext=(0, 3),\n",
    "                textcoords=\"offset points\",\n",
    "                ha='center', va='bottom')\n",
    "\n",
    "# Show the plot\n",
    "plt.tight_layout()\n",
    "plt.show()\n"
   ]
  },
  {
   "cell_type": "code",
   "execution_count": null,
   "metadata": {
    "id": "vBd0Ssn8pcJA"
   },
   "outputs": [],
   "source": [
    "import matplotlib.pyplot as plt\n",
    "import numpy as np\n",
    "\n",
    "# Accuracy data (replace with your actual data)\n",
    "results = results_adasyn\n",
    "\n",
    "# Extract model names and their accuracy values\n",
    "models = list(results.keys())\n",
    "legit_accuracies = [results[model]['accuracy_legit'] for model in models]\n",
    "fraud_accuracies = [results[model]['accuracy_fraud'] for model in models]\n",
    "\n",
    "x = np.arange(len(models))  # Model positions\n",
    "width = 0.35  # Width of the bars\n",
    "\n",
    "fig, ax = plt.subplots(figsize=(12, 6))\n",
    "\n",
    "# Plotting legitimate and fraud accuracies\n",
    "bars1 = ax.bar(x - width/2, legit_accuracies, width, label='Legit Accuracy', color='skyblue')\n",
    "bars2 = ax.bar(x + width/2, fraud_accuracies, width, label='Fraud Accuracy', color='salmon')\n",
    "\n",
    "# Add labels and title\n",
    "ax.set_xlabel('Models')\n",
    "ax.set_ylabel('Accuracy')\n",
    "ax.set_title('Comparison of Legitimate and Fraud Detection Accuracies Using adasyn')\n",
    "ax.set_xticks(x)\n",
    "ax.set_xticklabels(models, rotation=45, ha=\"right\")\n",
    "ax.legend()\n",
    "\n",
    "# Annotating bars with values\n",
    "for bar in bars1 + bars2:\n",
    "    height = bar.get_height()\n",
    "    ax.annotate(f'{height:.3f}',\n",
    "                xy=(bar.get_x() + bar.get_width() / 2, height),\n",
    "                xytext=(0, 3),\n",
    "                textcoords=\"offset points\",\n",
    "                ha='center', va='bottom')\n",
    "\n",
    "# Show the plot\n",
    "plt.tight_layout()\n",
    "plt.show()\n"
   ]
  },
  {
   "cell_type": "code",
   "execution_count": null,
   "metadata": {
    "id": "ijB7Zmvzpkw_"
   },
   "outputs": [],
   "source": [
    "import matplotlib.pyplot as plt\n",
    "import numpy as np\n",
    "\n",
    "# Accuracy data (replace with your actual data)\n",
    "results = results_ros\n",
    "\n",
    "# Extract model names and their accuracy values\n",
    "models = list(results.keys())\n",
    "legit_accuracies = [results[model]['accuracy_legit'] for model in models]\n",
    "fraud_accuracies = [results[model]['accuracy_fraud'] for model in models]\n",
    "\n",
    "x = np.arange(len(models))  # Model positions\n",
    "width = 0.35  # Width of the bars\n",
    "\n",
    "fig, ax = plt.subplots(figsize=(12, 6))\n",
    "\n",
    "# Plotting legitimate and fraud accuracies\n",
    "bars1 = ax.bar(x - width/2, legit_accuracies, width, label='Legit Accuracy', color='skyblue')\n",
    "bars2 = ax.bar(x + width/2, fraud_accuracies, width, label='Fraud Accuracy', color='salmon')\n",
    "\n",
    "# Add labels and title\n",
    "ax.set_xlabel('Models')\n",
    "ax.set_ylabel('Accuracy')\n",
    "ax.set_title('Comparison of Legitimate and Fraud Detection Accuracies Using ros')\n",
    "ax.set_xticks(x)\n",
    "ax.set_xticklabels(models, rotation=45, ha=\"right\")\n",
    "ax.legend()\n",
    "\n",
    "# Annotating bars with values\n",
    "for bar in bars1 + bars2:\n",
    "    height = bar.get_height()\n",
    "    ax.annotate(f'{height:.3f}',\n",
    "                xy=(bar.get_x() + bar.get_width() / 2, height),\n",
    "                xytext=(0, 3),\n",
    "                textcoords=\"offset points\",\n",
    "                ha='center', va='bottom')\n",
    "\n",
    "# Show the plot\n",
    "plt.tight_layout()\n",
    "plt.show()\n"
   ]
  },
  {
   "cell_type": "code",
   "execution_count": null,
   "metadata": {
    "colab": {
     "base_uri": "https://localhost:8080/",
     "height": 404
    },
    "id": "raOiwbINqJsg",
    "outputId": "acc45107-54f8-4a50-abf3-4260008e235f"
   },
   "outputs": [
    {
     "ename": "NameError",
     "evalue": "name 'results_rus' is not defined",
     "output_type": "error",
     "traceback": [
      "\u001b[0;31m---------------------------------------------------------------------------\u001b[0m",
      "\u001b[0;31mNameError\u001b[0m                                 Traceback (most recent call last)",
      "\u001b[0;32m<ipython-input-19-8e7a1bde83b0>\u001b[0m in \u001b[0;36m<cell line: 0>\u001b[0;34m()\u001b[0m\n\u001b[1;32m      3\u001b[0m \u001b[0;31m# Example data structure for different techniques (replace with actual results)\u001b[0m\u001b[0;34m\u001b[0m\u001b[0;34m\u001b[0m\u001b[0m\n\u001b[1;32m      4\u001b[0m results = {\n\u001b[0;32m----> 5\u001b[0;31m     \u001b[0;34m'RUS'\u001b[0m\u001b[0;34m:\u001b[0m \u001b[0mresults_rus\u001b[0m\u001b[0;34m,\u001b[0m\u001b[0;34m\u001b[0m\u001b[0;34m\u001b[0m\u001b[0m\n\u001b[0m\u001b[1;32m      6\u001b[0m     \u001b[0;34m'TomekLinks'\u001b[0m\u001b[0;34m:\u001b[0m \u001b[0mresults_tl\u001b[0m\u001b[0;34m,\u001b[0m\u001b[0;34m\u001b[0m\u001b[0;34m\u001b[0m\u001b[0m\n\u001b[1;32m      7\u001b[0m     \u001b[0;34m'ClusterCentroids'\u001b[0m\u001b[0;34m:\u001b[0m \u001b[0mresults_cc\u001b[0m\u001b[0;34m,\u001b[0m\u001b[0;34m\u001b[0m\u001b[0;34m\u001b[0m\u001b[0m\n",
      "\u001b[0;31mNameError\u001b[0m: name 'results_rus' is not defined"
     ]
    },
    {
     "ename": "NameError",
     "evalue": "name 'results_rus' is not defined",
     "output_type": "error",
     "traceback": [
      "\u001b[0;31m---------------------------------------------------------------------------\u001b[0m",
      "\u001b[0;31mNameError\u001b[0m                                 Traceback (most recent call last)",
      "\u001b[0;32m<ipython-input-19-8e7a1bde83b0>\u001b[0m in \u001b[0;36m<cell line: 0>\u001b[0;34m()\u001b[0m\n\u001b[1;32m      3\u001b[0m \u001b[0;31m# Example data structure for different techniques (replace with actual results)\u001b[0m\u001b[0;34m\u001b[0m\u001b[0;34m\u001b[0m\u001b[0m\n\u001b[1;32m      4\u001b[0m results = {\n\u001b[0;32m----> 5\u001b[0;31m     \u001b[0;34m'RUS'\u001b[0m\u001b[0;34m:\u001b[0m \u001b[0mresults_rus\u001b[0m\u001b[0;34m,\u001b[0m\u001b[0;34m\u001b[0m\u001b[0;34m\u001b[0m\u001b[0m\n\u001b[0m\u001b[1;32m      6\u001b[0m     \u001b[0;34m'TomekLinks'\u001b[0m\u001b[0;34m:\u001b[0m \u001b[0mresults_tl\u001b[0m\u001b[0;34m,\u001b[0m\u001b[0;34m\u001b[0m\u001b[0;34m\u001b[0m\u001b[0m\n\u001b[1;32m      7\u001b[0m     \u001b[0;34m'ClusterCentroids'\u001b[0m\u001b[0;34m:\u001b[0m \u001b[0mresults_cc\u001b[0m\u001b[0;34m,\u001b[0m\u001b[0;34m\u001b[0m\u001b[0;34m\u001b[0m\u001b[0m\n",
      "\u001b[0;31mNameError\u001b[0m: name 'results_rus' is not defined"
     ]
    }
   ],
   "source": [
    "import pandas as pd\n",
    "\n",
    "# Example data structure for different techniques (replace with actual results)\n",
    "results = {\n",
    "    'SMOTE': results,\n",
    "    'ADASYN': results_adasyn,\n",
    "    'ROS': results_ros\n",
    "}\n",
    "\n",
    "# Create a list to store the table data\n",
    "table_data = []\n",
    "\n",
    "for technique, models in results.items():\n",
    "    row = {'Technique': technique}\n",
    "    for model, acc in models.items():\n",
    "        row[f'{model} (Legit)'] = f\"{acc['accuracy_legit']:.5f}\"\n",
    "        row[f'{model} (Fraud)'] = f\"{acc['accuracy_fraud']:.5f}\"\n",
    "    table_data.append(row)\n",
    "\n",
    "# Convert to DataFrame\n",
    "df_results = pd.DataFrame(table_data)\n",
    "\n",
    "# Display the table\n",
    "print(df_results.to_string(index=False))\n",
    "\n",
    "# Optional: display table nicely in Jupyter Notebook\n",
    "from IPython.display import display\n",
    "display(df_results)\n"
   ]
  }
 ],
 "metadata": {
  "colab": {
   "provenance": []
  },
  "kernelspec": {
   "display_name": "Python 3",
   "language": "python",
   "name": "python3"
  },
  "language_info": {
   "codemirror_mode": {
    "name": "ipython",
    "version": 3
   },
   "file_extension": ".py",
   "mimetype": "text/x-python",
   "name": "python",
   "nbconvert_exporter": "python",
   "pygments_lexer": "ipython3",
   "version": "3.10.12"
  }
 },
 "nbformat": 4,
 "nbformat_minor": 0
}
